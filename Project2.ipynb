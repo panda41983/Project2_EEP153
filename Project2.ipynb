{
 "cells": [
  {
   "cell_type": "markdown",
   "metadata": {},
   "source": [
    "# Project 2: Subsistence Diets"
   ]
  },
  {
   "cell_type": "code",
   "execution_count": 1,
   "metadata": {},
   "outputs": [],
   "source": [
    "apikey = \"E6haYn1Fyu8cDrLwizdiVB0pPh1FqIlqdEze5lfw\" "
   ]
  },
  {
   "cell_type": "code",
   "execution_count": 3,
   "metadata": {},
   "outputs": [],
   "source": [
    "# %pip install pandas\n",
    "\n",
    "import pandas as pd\n",
    "import numpy as np"
   ]
  },
  {
   "cell_type": "markdown",
   "metadata": {},
   "source": [
    "### [A] Dietary Reference Intakes Function\n",
    "\n",
    "Write a function that takes as arguments the characteristics of a person (e.g., age, sex) and returns a `pandas.Series' of Dietary Reference Intakes (DRI's) or \"Recommended Daily Allowances\" (RDA) of a variety of nutrients appropriate for your population of interest."
   ]
  },
  {
   "cell_type": "code",
   "execution_count": null,
   "metadata": {},
   "outputs": [
    {
     "data": {
      "text/html": [
       "<div>\n",
       "<style scoped>\n",
       "    .dataframe tbody tr th:only-of-type {\n",
       "        vertical-align: middle;\n",
       "    }\n",
       "\n",
       "    .dataframe tbody tr th {\n",
       "        vertical-align: top;\n",
       "    }\n",
       "\n",
       "    .dataframe thead th {\n",
       "        text-align: right;\n",
       "    }\n",
       "</style>\n",
       "<table border=\"1\" class=\"dataframe\">\n",
       "  <thead>\n",
       "    <tr style=\"text-align: right;\">\n",
       "      <th></th>\n",
       "      <th>Nutrient Type</th>\n",
       "      <th>Unit</th>\n",
       "      <th>Constraint Type</th>\n",
       "      <th>Child_1_3</th>\n",
       "      <th>Female_4_8</th>\n",
       "      <th>Male_4_8</th>\n",
       "      <th>Female_9_13</th>\n",
       "      <th>Male_9_13</th>\n",
       "      <th>Female_14_18</th>\n",
       "      <th>Male_14_18</th>\n",
       "      <th>Female_19_30</th>\n",
       "      <th>Male_19_30</th>\n",
       "      <th>Female_31_50</th>\n",
       "      <th>Male_31_50</th>\n",
       "      <th>Female_51U</th>\n",
       "      <th>Male_51U</th>\n",
       "    </tr>\n",
       "    <tr>\n",
       "      <th>Nutrient</th>\n",
       "      <th></th>\n",
       "      <th></th>\n",
       "      <th></th>\n",
       "      <th></th>\n",
       "      <th></th>\n",
       "      <th></th>\n",
       "      <th></th>\n",
       "      <th></th>\n",
       "      <th></th>\n",
       "      <th></th>\n",
       "      <th></th>\n",
       "      <th></th>\n",
       "      <th></th>\n",
       "      <th></th>\n",
       "      <th></th>\n",
       "      <th></th>\n",
       "    </tr>\n",
       "  </thead>\n",
       "  <tbody>\n",
       "    <tr>\n",
       "      <th>Sodium_max</th>\n",
       "      <td>Mineral</td>\n",
       "      <td>mg</td>\n",
       "      <td>UL</td>\n",
       "      <td>1500.0</td>\n",
       "      <td>1900.0</td>\n",
       "      <td>1900.0</td>\n",
       "      <td>2200.0</td>\n",
       "      <td>2200.0</td>\n",
       "      <td>2300.0</td>\n",
       "      <td>2300.0</td>\n",
       "      <td>2300.0</td>\n",
       "      <td>2300.0</td>\n",
       "      <td>2300.0</td>\n",
       "      <td>2300.0</td>\n",
       "      <td>2300.0</td>\n",
       "      <td>2300.0</td>\n",
       "    </tr>\n",
       "    <tr>\n",
       "      <th>Energy_max</th>\n",
       "      <td>Macro</td>\n",
       "      <td>kcal</td>\n",
       "      <td>UL</td>\n",
       "      <td>2500.0</td>\n",
       "      <td>2500.0</td>\n",
       "      <td>2500.0</td>\n",
       "      <td>2800.0</td>\n",
       "      <td>3000.0</td>\n",
       "      <td>3100.0</td>\n",
       "      <td>3100.0</td>\n",
       "      <td>3100.0</td>\n",
       "      <td>3100.0</td>\n",
       "      <td>3100.0</td>\n",
       "      <td>3100.0</td>\n",
       "      <td>3100.0</td>\n",
       "      <td>3100.0</td>\n",
       "    </tr>\n",
       "  </tbody>\n",
       "</table>\n",
       "</div>"
      ],
      "text/plain": [
       "           Nutrient Type  Unit Constraint Type  Child_1_3  Female_4_8  \\\n",
       "Nutrient                                                                \n",
       "Sodium_max       Mineral    mg              UL     1500.0      1900.0   \n",
       "Energy_max         Macro  kcal              UL     2500.0      2500.0   \n",
       "\n",
       "            Male_4_8  Female_9_13  Male_9_13  Female_14_18  Male_14_18  \\\n",
       "Nutrient                                                                 \n",
       "Sodium_max    1900.0       2200.0     2200.0        2300.0      2300.0   \n",
       "Energy_max    2500.0       2800.0     3000.0        3100.0      3100.0   \n",
       "\n",
       "            Female_19_30  Male_19_30  Female_31_50  Male_31_50  Female_51U  \\\n",
       "Nutrient                                                                     \n",
       "Sodium_max        2300.0      2300.0        2300.0      2300.0      2300.0   \n",
       "Energy_max        3100.0      3100.0        3100.0      3100.0      3100.0   \n",
       "\n",
       "            Male_51U  \n",
       "Nutrient              \n",
       "Sodium_max    2300.0  \n",
       "Energy_max    3100.0  "
      ]
     },
     "execution_count": 27,
     "metadata": {},
     "output_type": "execute_result"
    }
   ],
   "source": [
    "rda = pd.read_csv(\"rda.csv\", index_col = 0)\n",
    "\n",
    "options = ['Child_1_3', 'Female_4_8', 'Male_4_8', 'Female_9_13', 'Male_9_13', 'Female_14_18', 'Male_14_18', 'Female_19_30', 'Male_19_30', 'Female_31_50', 'Male_31_50', 'Female_51U', 'Male_51U']\n",
    "\n",
    "bmin = rda.loc[rda['Constraint Type'].isin(['RDA', 'AI'])]\n",
    "bmax = rda.loc[rda['Constraint Type'].isin(['UL'])]"
   ]
  },
  {
   "cell_type": "code",
   "execution_count": 20,
   "metadata": {},
   "outputs": [],
   "source": [
    "def dietary_ref_intake(age = 20,sex = \"Female\", data = rda):\n",
    "    \"\"\"Takes in age (integer) and sex (string), and returns a Series of dietary reference intakes for the chosen population, you can optionally use a different data frame, the min or max RDAs\"\"\"\n",
    "\n",
    "    if age <= 3:\n",
    "        col = 'Child_1_3'\n",
    "    if sex in [\"M\", \"male\", \"m\"]:\n",
    "        sex = \"Male\"\n",
    "    elif sex in [\"F\", \"f\", \"female\"]:\n",
    "        sex = \"Female\"\n",
    "    if age <= 3:\n",
    "        col = 'Child_1_3'\n",
    "    elif age >= 51:\n",
    "        col = sex + \"_51U\" \n",
    "    else:\n",
    "        age_ranges = [(4,8),(9,13),(14,18),(19,30),(31,50),(51,100)]\n",
    "        for age_range in age_ranges:\n",
    "            if age >= age_range[0] and age <= age_range[1]:\n",
    "                col = sex + '_' + str(age_range[0]) + '_' + str(age_range[1])\n",
    "    return pd.Series(data[col])  "
   ]
  },
  {
   "cell_type": "markdown",
   "metadata": {},
   "source": [
    "#### Examples"
   ]
  },
  {
   "cell_type": "code",
   "execution_count": 21,
   "metadata": {},
   "outputs": [
    {
     "data": {
      "text/plain": [
       "Nutrient\n",
       "Energy            2400.0\n",
       "Protein             56.0\n",
       "Carbohydrate       130.0\n",
       "Dietary Fiber       33.6\n",
       "Linoleic Acid       17.0\n",
       "Linolenic Acid       1.6\n",
       "Calcium           1000.0\n",
       "Iron                 8.0\n",
       "Magnesium          400.0\n",
       "Phosphorus         700.0\n",
       "Potassium         4700.0\n",
       "Sodium_max        2300.0\n",
       "Zinc                11.0\n",
       "Copper               0.9\n",
       "Selenium            55.0\n",
       "Vitamin A          900.0\n",
       "Vitamin E           15.0\n",
       "Vitamin D           15.0\n",
       "Vitamin C           90.0\n",
       "Thiamin              1.2\n",
       "Riboflavin           1.3\n",
       "Niacin              16.0\n",
       "Vitamin B6           1.3\n",
       "Vitamin B12          2.4\n",
       "Choline            550.0\n",
       "Vitamin K          120.0\n",
       "Folate             400.0\n",
       "Energy_max        3100.0\n",
       "Name: Male_19_30, dtype: float64"
      ]
     },
     "execution_count": 21,
     "metadata": {},
     "output_type": "execute_result"
    }
   ],
   "source": [
    "dietary_ref_intake(age=22,sex='M')"
   ]
  },
  {
   "cell_type": "code",
   "execution_count": 28,
   "metadata": {},
   "outputs": [
    {
     "data": {
      "text/plain": [
       "Nutrient\n",
       "Sodium_max    2300.0\n",
       "Energy_max    3100.0\n",
       "Name: Female_51U, dtype: float64"
      ]
     },
     "execution_count": 28,
     "metadata": {},
     "output_type": "execute_result"
    }
   ],
   "source": [
    "dietary_ref_intake(age=80,sex='F', data = bmax)"
   ]
  },
  {
   "cell_type": "markdown",
   "metadata": {},
   "source": [
    "### [A] Data on Prices for Different Foods\n",
    "\n",
    "Construct a google spreadsheet of the prices of different food products for each diet (frozen food diet, meat diet, fresh food diet, liquid diet, and canned-food diet)"
   ]
  },
  {
   "cell_type": "code",
   "execution_count": null,
   "metadata": {},
   "outputs": [],
   "source": []
  }
 ],
 "metadata": {
  "kernelspec": {
   "display_name": "vscode",
   "language": "python",
   "name": "python3"
  },
  "language_info": {
   "codemirror_mode": {
    "name": "ipython",
    "version": 3
   },
   "file_extension": ".py",
   "mimetype": "text/x-python",
   "name": "python",
   "nbconvert_exporter": "python",
   "pygments_lexer": "ipython3",
   "version": "3.13.1"
  }
 },
 "nbformat": 4,
 "nbformat_minor": 2
}
