{
 "cells": [
  {
   "cell_type": "markdown",
   "metadata": {},
   "source": [
    "# Project 2: Subsistence Diets"
   ]
  },
  {
   "cell_type": "code",
   "execution_count": 12,
   "metadata": {},
   "outputs": [],
   "source": [
    "apikey = \"E6haYn1Fyu8cDrLwizdiVB0pPh1FqIlqdEze5lfw\" "
   ]
  },
  {
   "cell_type": "code",
   "execution_count": 13,
   "metadata": {},
   "outputs": [],
   "source": [
    "# %pip install pandas\n",
    "\n",
    "import pandas as pd\n",
    "import numpy as np"
   ]
  },
  {
   "cell_type": "markdown",
   "metadata": {},
   "source": [
    "### [A] Dietary Reference Intakes Function\n",
    "\n",
    "Write a function that takes as arguments the characteristics of a person (e.g., age, sex) and returns a `pandas.Series' of Dietary Reference Intakes (DRI's) or \"Recommended Daily Allowances\" (RDA) of a variety of nutrients appropriate for your population of interest."
   ]
  },
  {
   "cell_type": "code",
   "execution_count": 14,
   "metadata": {},
   "outputs": [],
   "source": [
    "rda = pd.read_csv(\"rda.csv\", index_col = 0)\n",
    "\n",
    "options = ['Child_1_3', 'Female_4_8', 'Male_4_8', 'Female_9_13', 'Male_9_13', 'Female_14_18', 'Male_14_18', 'Female_19_30', 'Male_19_30', 'Female_31_50', 'Male_31_50', 'Female_51U', 'Male_51U']\n",
    "\n",
    "bmin = rda.loc[rda['Constraint Type'].isin(['RDA', 'AI'])]\n",
    "bmax = rda.loc[rda['Constraint Type'].isin(['UL'])]"
   ]
  },
  {
   "cell_type": "code",
   "execution_count": 15,
   "metadata": {},
   "outputs": [],
   "source": [
    "def dietary_ref_intake(age = 20,sex = \"Female\", data = rda):\n",
    "    \"\"\"Takes in age (integer) and sex (string), and returns a Series of dietary reference intakes for the chosen population, you can optionally use a different data frame, the min or max RDAs\"\"\"\n",
    "\n",
    "    if age <= 3:\n",
    "        col = 'Child_1_3'\n",
    "    if sex in [\"M\", \"male\", \"m\"]:\n",
    "        sex = \"Male\"\n",
    "    elif sex in [\"F\", \"f\", \"female\"]:\n",
    "        sex = \"Female\"\n",
    "    if age <= 3:\n",
    "        col = 'Child_1_3'\n",
    "    elif age >= 51:\n",
    "        col = sex + \"_51U\" \n",
    "    else:\n",
    "        age_ranges = [(4,8),(9,13),(14,18),(19,30),(31,50),(51,100)]\n",
    "        for age_range in age_ranges:\n",
    "            if age >= age_range[0] and age <= age_range[1]:\n",
    "                col = sex + '_' + str(age_range[0]) + '_' + str(age_range[1])\n",
    "    return pd.Series(data[col])  "
   ]
  },
  {
   "cell_type": "markdown",
   "metadata": {},
   "source": [
    "#### Examples"
   ]
  },
  {
   "cell_type": "code",
   "execution_count": 16,
   "metadata": {},
   "outputs": [
    {
     "data": {
      "text/plain": [
       "Nutrient\n",
       "Energy            2400.0\n",
       "Protein             56.0\n",
       "Carbohydrate       130.0\n",
       "Dietary Fiber       33.6\n",
       "Linoleic Acid       17.0\n",
       "Linolenic Acid       1.6\n",
       "Calcium           1000.0\n",
       "Iron                 8.0\n",
       "Magnesium          400.0\n",
       "Phosphorus         700.0\n",
       "Potassium         4700.0\n",
       "Sodium_max        2300.0\n",
       "Zinc                11.0\n",
       "Copper               0.9\n",
       "Selenium            55.0\n",
       "Vitamin A          900.0\n",
       "Vitamin E           15.0\n",
       "Vitamin D           15.0\n",
       "Vitamin C           90.0\n",
       "Thiamin              1.2\n",
       "Riboflavin           1.3\n",
       "Niacin              16.0\n",
       "Vitamin B6           1.3\n",
       "Vitamin B12          2.4\n",
       "Choline            550.0\n",
       "Vitamin K          120.0\n",
       "Folate             400.0\n",
       "Energy_max        3100.0\n",
       "Name: Male_19_30, dtype: float64"
      ]
     },
     "execution_count": 16,
     "metadata": {},
     "output_type": "execute_result"
    }
   ],
   "source": [
    "dietary_ref_intake(age=22,sex='M')"
   ]
  },
  {
   "cell_type": "code",
   "execution_count": 17,
   "metadata": {},
   "outputs": [
    {
     "data": {
      "text/plain": [
       "Nutrient\n",
       "Sodium_max    2300.0\n",
       "Energy_max    3100.0\n",
       "Name: Female_51U, dtype: float64"
      ]
     },
     "execution_count": 17,
     "metadata": {},
     "output_type": "execute_result"
    }
   ],
   "source": [
    "dietary_ref_intake(age=80,sex='F', data = bmax)"
   ]
  },
  {
   "cell_type": "markdown",
   "metadata": {},
   "source": [
    "### [A] Data on Prices for Different Foods\n",
    "\n",
    "Construct a google spreadsheet of the prices of different food products for each diet (frozen food diet, meat diet, fresh food diet, liquid diet, and canned-food diet)"
   ]
  },
  {
   "cell_type": "code",
   "execution_count": 102,
   "metadata": {},
   "outputs": [],
   "source": [
    "# Define file paths again if they are not available\n",
    "file_paths = {\n",
    "    \"carnivore\": \"~/Documents/GitHub/Project2_EEP153/Wilbur Atwater min_cost_data - carnivore_recipes.csv\",\n",
    "    \"canned\": \"~/Documents/GitHub/Project2_EEP153/Wilbur Atwater min_cost_data - canned_recipes.csv\",\n",
    "    \"frozen\": \"~/Documents/GitHub/Project2_EEP153/Wilbur Atwater min_cost_data - frozen_recipes.csv\",\n",
    "    \"fresh\": \"~/Documents/GitHub/Project2_EEP153/Wilbur Atwater min_cost_data - fresh_recipes.csv\",\n",
    "    \"liquid\": \"~/Documents/GitHub/Project2_EEP153/Wilbur Atwater min_cost_data - liquid_recipes.csv\",\n",
    "    \"prices\": \"~/Documents/GitHub/Project2_EEP153/Wilbur Atwater min_cost_data - prices.csv\"\n",
    "}\n",
    "\n",
    "\n",
    "# Function to read a dataset\n",
    "def read_sheet(file_path):\n",
    "    df = pd.read_csv(file_path, index_col=False)\n",
    "    df = df.iloc[:, :7].dropna(subset=['parent_foodcode'])\n",
    "    df = df.reset_index(drop=True)\n",
    "    return df\n",
    "\n",
    "# Load prices dataset\n",
    "prices_df = pd.read_csv(file_paths[\"prices\"])\n",
    "prices_df['parent_foodcode'] = prices_df['parent_foodcode'].astype(int)  # Convert type for merging\n",
    "\n",
    "# Function to merge price with a given diet dataset\n",
    "def read_and_merge_with_prices(diet_name):\n",
    "    df = read_sheet(file_paths[diet_name])  # Read the diet dataset\n",
    "    df['parent_foodcode'] = df['parent_foodcode'].astype(int)  # Ensure data type matches for merging\n",
    "    merged_df = df.merge(prices_df, on=\"parent_foodcode\", how=\"left\")  # Left join to include all diet rows\n",
    "    return merged_df\n",
    "\n",
    "# Now run the function without errors\n",
    "frozen_diet_with_prices = read_and_merge_with_prices(\"frozen\")\n"
   ]
  },
  {
   "cell_type": "code",
   "execution_count": 104,
   "metadata": {},
   "outputs": [
    {
     "data": {
      "text/html": [
       "<div>\n",
       "<style scoped>\n",
       "    .dataframe tbody tr th:only-of-type {\n",
       "        vertical-align: middle;\n",
       "    }\n",
       "\n",
       "    .dataframe tbody tr th {\n",
       "        vertical-align: top;\n",
       "    }\n",
       "\n",
       "    .dataframe thead th {\n",
       "        text-align: right;\n",
       "    }\n",
       "</style>\n",
       "<table border=\"1\" class=\"dataframe\">\n",
       "  <thead>\n",
       "    <tr style=\"text-align: right;\">\n",
       "      <th></th>\n",
       "      <th>parent_foodcode</th>\n",
       "      <th>parent_desc</th>\n",
       "      <th>ingred_code</th>\n",
       "      <th>ingred_desc</th>\n",
       "      <th>ingred_wt</th>\n",
       "      <th>year</th>\n",
       "      <th>mod_code</th>\n",
       "      <th>method</th>\n",
       "      <th>method_description</th>\n",
       "      <th>nhanes</th>\n",
       "      <th>price</th>\n",
       "    </tr>\n",
       "  </thead>\n",
       "  <tbody>\n",
       "    <tr>\n",
       "      <th>0</th>\n",
       "      <td>11460150</td>\n",
       "      <td>Yogurt, frozen, NS as to flavor, lowfat milk</td>\n",
       "      <td>1298</td>\n",
       "      <td>Yogurt, frozen, flavors other than chocolate, ...</td>\n",
       "      <td>100.0</td>\n",
       "      <td>2013/2014</td>\n",
       "      <td>NaN</td>\n",
       "      <td>2.0</td>\n",
       "      <td>Links to altEC</td>\n",
       "      <td>Extra</td>\n",
       "      <td>0.335298</td>\n",
       "    </tr>\n",
       "    <tr>\n",
       "      <th>1</th>\n",
       "      <td>11460160</td>\n",
       "      <td>Yogurt, frozen, chocolate, lowfat milk</td>\n",
       "      <td>1117</td>\n",
       "      <td>Yogurt, plain, low fat, 12 grams protein per 8...</td>\n",
       "      <td>81.8</td>\n",
       "      <td>2011/2012</td>\n",
       "      <td>0.0</td>\n",
       "      <td>1.0</td>\n",
       "      <td>Links to FNDDS</td>\n",
       "      <td>NaN</td>\n",
       "      <td>0.276580</td>\n",
       "    </tr>\n",
       "    <tr>\n",
       "      <th>2</th>\n",
       "      <td>11460160</td>\n",
       "      <td>Yogurt, frozen, chocolate, lowfat milk</td>\n",
       "      <td>1117</td>\n",
       "      <td>Yogurt, plain, low fat, 12 grams protein per 8...</td>\n",
       "      <td>81.8</td>\n",
       "      <td>2013/2014</td>\n",
       "      <td>NaN</td>\n",
       "      <td>1.0</td>\n",
       "      <td>Links to FNDDS</td>\n",
       "      <td>Extra</td>\n",
       "      <td>0.296941</td>\n",
       "    </tr>\n",
       "    <tr>\n",
       "      <th>3</th>\n",
       "      <td>11460160</td>\n",
       "      <td>Yogurt, frozen, chocolate, lowfat milk</td>\n",
       "      <td>1117</td>\n",
       "      <td>Yogurt, plain, low fat, 12 grams protein per 8...</td>\n",
       "      <td>81.8</td>\n",
       "      <td>2015/2016</td>\n",
       "      <td>NaN</td>\n",
       "      <td>1.0</td>\n",
       "      <td>Links to FNDDS</td>\n",
       "      <td>Extra</td>\n",
       "      <td>0.301143</td>\n",
       "    </tr>\n",
       "    <tr>\n",
       "      <th>4</th>\n",
       "      <td>11460160</td>\n",
       "      <td>Yogurt, frozen, chocolate, lowfat milk</td>\n",
       "      <td>19166</td>\n",
       "      <td>Cocoa, dry powder, unsweetened, processed with...</td>\n",
       "      <td>5.2</td>\n",
       "      <td>2011/2012</td>\n",
       "      <td>0.0</td>\n",
       "      <td>1.0</td>\n",
       "      <td>Links to FNDDS</td>\n",
       "      <td>NaN</td>\n",
       "      <td>0.276580</td>\n",
       "    </tr>\n",
       "  </tbody>\n",
       "</table>\n",
       "</div>"
      ],
      "text/plain": [
       "   parent_foodcode                                   parent_desc  ingred_code  \\\n",
       "0         11460150  Yogurt, frozen, NS as to flavor, lowfat milk         1298   \n",
       "1         11460160        Yogurt, frozen, chocolate, lowfat milk         1117   \n",
       "2         11460160        Yogurt, frozen, chocolate, lowfat milk         1117   \n",
       "3         11460160        Yogurt, frozen, chocolate, lowfat milk         1117   \n",
       "4         11460160        Yogurt, frozen, chocolate, lowfat milk        19166   \n",
       "\n",
       "                                         ingred_desc  ingred_wt       year  \\\n",
       "0  Yogurt, frozen, flavors other than chocolate, ...      100.0  2013/2014   \n",
       "1  Yogurt, plain, low fat, 12 grams protein per 8...       81.8  2011/2012   \n",
       "2  Yogurt, plain, low fat, 12 grams protein per 8...       81.8  2013/2014   \n",
       "3  Yogurt, plain, low fat, 12 grams protein per 8...       81.8  2015/2016   \n",
       "4  Cocoa, dry powder, unsweetened, processed with...        5.2  2011/2012   \n",
       "\n",
       "   mod_code  method method_description nhanes     price  \n",
       "0       NaN     2.0     Links to altEC  Extra  0.335298  \n",
       "1       0.0     1.0     Links to FNDDS    NaN  0.276580  \n",
       "2       NaN     1.0     Links to FNDDS  Extra  0.296941  \n",
       "3       NaN     1.0     Links to FNDDS  Extra  0.301143  \n",
       "4       0.0     1.0     Links to FNDDS    NaN  0.276580  "
      ]
     },
     "execution_count": 104,
     "metadata": {},
     "output_type": "execute_result"
    }
   ],
   "source": [
    "#Example of merged diet and price\n",
    "frozen_diet_with_prices.head()"
   ]
  },
  {
   "cell_type": "markdown",
   "metadata": {},
   "source": [
    "### [A] Nutritional Content of Different Foods\n",
    "\n",
    "Write a function that describes the nutritional content for each diet."
   ]
  },
  {
   "cell_type": "code",
   "execution_count": null,
   "metadata": {},
   "outputs": [],
   "source": []
  }
 ],
 "metadata": {
  "kernelspec": {
   "display_name": "Python 3",
   "language": "python",
   "name": "python3"
  },
  "language_info": {
   "codemirror_mode": {
    "name": "ipython",
    "version": 3
   },
   "file_extension": ".py",
   "mimetype": "text/x-python",
   "name": "python",
   "nbconvert_exporter": "python",
   "pygments_lexer": "ipython3",
   "version": "3.13.1"
  }
 },
 "nbformat": 4,
 "nbformat_minor": 2
}
