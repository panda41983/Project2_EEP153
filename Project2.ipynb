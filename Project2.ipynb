{
 "cells": [
  {
   "cell_type": "markdown",
   "metadata": {},
   "source": [
    "# Project 2: Subsistence Diets"
   ]
  },
  {
   "cell_type": "code",
   "execution_count": 12,
   "metadata": {},
   "outputs": [],
   "source": [
    "apikey = \"E6haYn1Fyu8cDrLwizdiVB0pPh1FqIlqdEze5lfw\" "
   ]
  },
  {
   "cell_type": "code",
   "execution_count": 13,
   "metadata": {},
   "outputs": [],
   "source": [
    "# %pip install pandas\n",
    "\n",
    "import pandas as pd\n",
    "import numpy as np"
   ]
  },
  {
   "cell_type": "markdown",
   "metadata": {},
   "source": [
    "### [A] Dietary Reference Intakes Function\n",
    "\n",
    "Write a function that takes as arguments the characteristics of a person (e.g., age, sex) and returns a `pandas.Series' of Dietary Reference Intakes (DRI's) or \"Recommended Daily Allowances\" (RDA) of a variety of nutrients appropriate for your population of interest."
   ]
  },
  {
   "cell_type": "code",
   "execution_count": 14,
   "metadata": {},
   "outputs": [],
   "source": [
    "rda = pd.read_csv(\"rda.csv\", index_col = 0)\n",
    "\n",
    "options = ['Child_1_3', 'Female_4_8', 'Male_4_8', 'Female_9_13', 'Male_9_13', 'Female_14_18', 'Male_14_18', 'Female_19_30', 'Male_19_30', 'Female_31_50', 'Male_31_50', 'Female_51U', 'Male_51U']\n",
    "\n",
    "bmin = rda.loc[rda['Constraint Type'].isin(['RDA', 'AI'])]\n",
    "bmax = rda.loc[rda['Constraint Type'].isin(['UL'])]"
   ]
  },
  {
   "cell_type": "code",
   "execution_count": 15,
   "metadata": {},
   "outputs": [],
   "source": [
    "def dietary_ref_intake(age = 20,sex = \"Female\", data = rda):\n",
    "    \"\"\"Takes in age (integer) and sex (string), and returns a Series of dietary reference intakes for the chosen population, you can optionally use a different data frame, the min or max RDAs\"\"\"\n",
    "\n",
    "    if age <= 3:\n",
    "        col = 'Child_1_3'\n",
    "    if sex in [\"M\", \"male\", \"m\"]:\n",
    "        sex = \"Male\"\n",
    "    elif sex in [\"F\", \"f\", \"female\"]:\n",
    "        sex = \"Female\"\n",
    "    if age <= 3:\n",
    "        col = 'Child_1_3'\n",
    "    elif age >= 51:\n",
    "        col = sex + \"_51U\" \n",
    "    else:\n",
    "        age_ranges = [(4,8),(9,13),(14,18),(19,30),(31,50),(51,100)]\n",
    "        for age_range in age_ranges:\n",
    "            if age >= age_range[0] and age <= age_range[1]:\n",
    "                col = sex + '_' + str(age_range[0]) + '_' + str(age_range[1])\n",
    "    return pd.Series(data[col])  "
   ]
  },
  {
   "cell_type": "markdown",
   "metadata": {},
   "source": [
    "#### Examples"
   ]
  },
  {
   "cell_type": "code",
   "execution_count": 16,
   "metadata": {},
   "outputs": [
    {
     "data": {
      "text/plain": [
       "Nutrient\n",
       "Energy            2400.0\n",
       "Protein             56.0\n",
       "Carbohydrate       130.0\n",
       "Dietary Fiber       33.6\n",
       "Linoleic Acid       17.0\n",
       "Linolenic Acid       1.6\n",
       "Calcium           1000.0\n",
       "Iron                 8.0\n",
       "Magnesium          400.0\n",
       "Phosphorus         700.0\n",
       "Potassium         4700.0\n",
       "Sodium_max        2300.0\n",
       "Zinc                11.0\n",
       "Copper               0.9\n",
       "Selenium            55.0\n",
       "Vitamin A          900.0\n",
       "Vitamin E           15.0\n",
       "Vitamin D           15.0\n",
       "Vitamin C           90.0\n",
       "Thiamin              1.2\n",
       "Riboflavin           1.3\n",
       "Niacin              16.0\n",
       "Vitamin B6           1.3\n",
       "Vitamin B12          2.4\n",
       "Choline            550.0\n",
       "Vitamin K          120.0\n",
       "Folate             400.0\n",
       "Energy_max        3100.0\n",
       "Name: Male_19_30, dtype: float64"
      ]
     },
     "execution_count": 16,
     "metadata": {},
     "output_type": "execute_result"
    }
   ],
   "source": [
    "dietary_ref_intake(age=22,sex='M')"
   ]
  },
  {
   "cell_type": "code",
   "execution_count": 17,
   "metadata": {},
   "outputs": [
    {
     "data": {
      "text/plain": [
       "Nutrient\n",
       "Sodium_max    2300.0\n",
       "Energy_max    3100.0\n",
       "Name: Female_51U, dtype: float64"
      ]
     },
     "execution_count": 17,
     "metadata": {},
     "output_type": "execute_result"
    }
   ],
   "source": [
    "dietary_ref_intake(age=80,sex='F', data = bmax)"
   ]
  },
  {
   "cell_type": "markdown",
   "metadata": {},
   "source": [
    "### [A] Data on Prices for Different Foods\n",
    "\n",
    "Construct a google spreadsheet of the prices of different food products for each diet (frozen food diet, meat diet, fresh food diet, liquid diet, and canned-food diet)"
   ]
  },
  {
   "cell_type": "code",
   "execution_count": 102,
   "metadata": {},
   "outputs": [],
   "source": [
    "# Define file paths again if they are not available\n",
    "file_paths = {\n",
    "    \"carnivore\": \"~/Documents/GitHub/Project2_EEP153/Wilbur Atwater min_cost_data - carnivore_recipes.csv\",\n",
    "    \"canned\": \"~/Documents/GitHub/Project2_EEP153/Wilbur Atwater min_cost_data - canned_recipes.csv\",\n",
    "    \"frozen\": \"~/Documents/GitHub/Project2_EEP153/Wilbur Atwater min_cost_data - frozen_recipes.csv\",\n",
    "    \"fresh\": \"~/Documents/GitHub/Project2_EEP153/Wilbur Atwater min_cost_data - fresh_recipes.csv\",\n",
    "    \"liquid\": \"~/Documents/GitHub/Project2_EEP153/Wilbur Atwater min_cost_data - liquid_recipes.csv\",\n",
    "    \"prices\": \"~/Documents/GitHub/Project2_EEP153/Wilbur Atwater min_cost_data - prices.csv\",\n",
    "}\n",
    "\n",
    "\n",
    "# Function to read a dataset\n",
    "def read_sheet(file_path):\n",
    "    df = pd.read_csv(file_path, index_col=False)\n",
    "    df = df.iloc[:, :7].dropna(subset=['parent_foodcode'])\n",
    "    df = df.reset_index(drop=True)\n",
    "    return df\n",
    "\n",
    "# Load prices dataset\n",
    "prices_df = pd.read_csv(file_paths[\"prices\"])\n",
    "prices_df['parent_foodcode'] = prices_df['parent_foodcode'].astype(int)  # Convert type for merging\n",
    "\n",
    "# Function to merge price with a given diet dataset\n",
    "def read_and_merge_with_prices(diet_name):\n",
    "    df = read_sheet(file_paths[diet_name])  # Read the diet dataset\n",
    "    df['parent_foodcode'] = df['parent_foodcode'].astype(int)  # Ensure data type matches for merging\n",
    "    merged_df = df.merge(prices_df, on=\"parent_foodcode\", how=\"left\")  # Left join to include all diet rows\n",
    "    return merged_df\n",
    "\n",
    "# Now run the function without errors\n",
    "frozen_diet_with_prices = read_and_merge_with_prices(\"frozen\")"
   ]
  },
  {
   "cell_type": "code",
   "execution_count": 104,
   "metadata": {},
   "outputs": [
    {
     "data": {
      "text/html": [
       "<div>\n",
       "<style scoped>\n",
       "    .dataframe tbody tr th:only-of-type {\n",
       "        vertical-align: middle;\n",
       "    }\n",
       "\n",
       "    .dataframe tbody tr th {\n",
       "        vertical-align: top;\n",
       "    }\n",
       "\n",
       "    .dataframe thead th {\n",
       "        text-align: right;\n",
       "    }\n",
       "</style>\n",
       "<table border=\"1\" class=\"dataframe\">\n",
       "  <thead>\n",
       "    <tr style=\"text-align: right;\">\n",
       "      <th></th>\n",
       "      <th>parent_foodcode</th>\n",
       "      <th>parent_desc</th>\n",
       "      <th>ingred_code</th>\n",
       "      <th>ingred_desc</th>\n",
       "      <th>ingred_wt</th>\n",
       "      <th>year</th>\n",
       "      <th>mod_code</th>\n",
       "      <th>method</th>\n",
       "      <th>method_description</th>\n",
       "      <th>nhanes</th>\n",
       "      <th>price</th>\n",
       "    </tr>\n",
       "  </thead>\n",
       "  <tbody>\n",
       "    <tr>\n",
       "      <th>0</th>\n",
       "      <td>11460150</td>\n",
       "      <td>Yogurt, frozen, NS as to flavor, lowfat milk</td>\n",
       "      <td>1298</td>\n",
       "      <td>Yogurt, frozen, flavors other than chocolate, ...</td>\n",
       "      <td>100.0</td>\n",
       "      <td>2013/2014</td>\n",
       "      <td>NaN</td>\n",
       "      <td>2.0</td>\n",
       "      <td>Links to altEC</td>\n",
       "      <td>Extra</td>\n",
       "      <td>0.335298</td>\n",
       "    </tr>\n",
       "    <tr>\n",
       "      <th>1</th>\n",
       "      <td>11460160</td>\n",
       "      <td>Yogurt, frozen, chocolate, lowfat milk</td>\n",
       "      <td>1117</td>\n",
       "      <td>Yogurt, plain, low fat, 12 grams protein per 8...</td>\n",
       "      <td>81.8</td>\n",
       "      <td>2011/2012</td>\n",
       "      <td>0.0</td>\n",
       "      <td>1.0</td>\n",
       "      <td>Links to FNDDS</td>\n",
       "      <td>NaN</td>\n",
       "      <td>0.276580</td>\n",
       "    </tr>\n",
       "    <tr>\n",
       "      <th>2</th>\n",
       "      <td>11460160</td>\n",
       "      <td>Yogurt, frozen, chocolate, lowfat milk</td>\n",
       "      <td>1117</td>\n",
       "      <td>Yogurt, plain, low fat, 12 grams protein per 8...</td>\n",
       "      <td>81.8</td>\n",
       "      <td>2013/2014</td>\n",
       "      <td>NaN</td>\n",
       "      <td>1.0</td>\n",
       "      <td>Links to FNDDS</td>\n",
       "      <td>Extra</td>\n",
       "      <td>0.296941</td>\n",
       "    </tr>\n",
       "    <tr>\n",
       "      <th>3</th>\n",
       "      <td>11460160</td>\n",
       "      <td>Yogurt, frozen, chocolate, lowfat milk</td>\n",
       "      <td>1117</td>\n",
       "      <td>Yogurt, plain, low fat, 12 grams protein per 8...</td>\n",
       "      <td>81.8</td>\n",
       "      <td>2015/2016</td>\n",
       "      <td>NaN</td>\n",
       "      <td>1.0</td>\n",
       "      <td>Links to FNDDS</td>\n",
       "      <td>Extra</td>\n",
       "      <td>0.301143</td>\n",
       "    </tr>\n",
       "    <tr>\n",
       "      <th>4</th>\n",
       "      <td>11460160</td>\n",
       "      <td>Yogurt, frozen, chocolate, lowfat milk</td>\n",
       "      <td>19166</td>\n",
       "      <td>Cocoa, dry powder, unsweetened, processed with...</td>\n",
       "      <td>5.2</td>\n",
       "      <td>2011/2012</td>\n",
       "      <td>0.0</td>\n",
       "      <td>1.0</td>\n",
       "      <td>Links to FNDDS</td>\n",
       "      <td>NaN</td>\n",
       "      <td>0.276580</td>\n",
       "    </tr>\n",
       "  </tbody>\n",
       "</table>\n",
       "</div>"
      ],
      "text/plain": [
       "   parent_foodcode                                   parent_desc  ingred_code  \\\n",
       "0         11460150  Yogurt, frozen, NS as to flavor, lowfat milk         1298   \n",
       "1         11460160        Yogurt, frozen, chocolate, lowfat milk         1117   \n",
       "2         11460160        Yogurt, frozen, chocolate, lowfat milk         1117   \n",
       "3         11460160        Yogurt, frozen, chocolate, lowfat milk         1117   \n",
       "4         11460160        Yogurt, frozen, chocolate, lowfat milk        19166   \n",
       "\n",
       "                                         ingred_desc  ingred_wt       year  \\\n",
       "0  Yogurt, frozen, flavors other than chocolate, ...      100.0  2013/2014   \n",
       "1  Yogurt, plain, low fat, 12 grams protein per 8...       81.8  2011/2012   \n",
       "2  Yogurt, plain, low fat, 12 grams protein per 8...       81.8  2013/2014   \n",
       "3  Yogurt, plain, low fat, 12 grams protein per 8...       81.8  2015/2016   \n",
       "4  Cocoa, dry powder, unsweetened, processed with...        5.2  2011/2012   \n",
       "\n",
       "   mod_code  method method_description nhanes     price  \n",
       "0       NaN     2.0     Links to altEC  Extra  0.335298  \n",
       "1       0.0     1.0     Links to FNDDS    NaN  0.276580  \n",
       "2       NaN     1.0     Links to FNDDS  Extra  0.296941  \n",
       "3       NaN     1.0     Links to FNDDS  Extra  0.301143  \n",
       "4       0.0     1.0     Links to FNDDS    NaN  0.276580  "
      ]
     },
     "execution_count": 104,
     "metadata": {},
     "output_type": "execute_result"
    }
   ],
   "source": [
    "#Example of merged diet and price\n",
    "frozen_diet_with_prices.head()"
   ]
  },
  {
   "cell_type": "markdown",
   "metadata": {},
   "source": [
    "### [A] Nutritional Content of Different Foods\n",
    "\n",
    "Write a function that describes the nutritional content for each diet."
   ]
  },
  {
   "cell_type": "code",
   "execution_count": null,
   "metadata": {},
   "outputs": [],
   "source": [
    "def read_nutrients():\n",
    "    \"\"\"\n",
    "    Reads the nutrients dataset and ensures column formatting is correct.\n",
    "    \"\"\"\n",
    "    nutrients_df = pd.read_csv(\"~/Documents/GitHub/Project2_EEP153/Wilbur Atwater min_cost_data - nutrients.csv\", index_col=False)\n",
    "\n",
    "    # Strip any spaces from column names to avoid merge issues\n",
    "    nutrients_df.columns = nutrients_df.columns.str.strip()\n",
    "\n",
    "    # Print columns for debugging\n",
    "    print(\"Nutrients dataset columns:\", nutrients_df.columns)\n",
    "\n",
    "    return nutrients_df\n",
    "\n",
    "# Load the nutrients dataset once\n",
    "nutrients_df = read_nutrients()"
   ]
  },
  {
   "cell_type": "code",
   "execution_count": null,
   "metadata": {},
   "outputs": [],
   "source": [
    "def get_diet_nutritional_info(diet_name, nutrients_df):\n",
    "    \"\"\"\n",
    "    Fetches nutrient information for foods in a specified diet by using the ingred_code\n",
    "    and merging with an existing nutrients dataset.\n",
    "\n",
    "    Parameters:\n",
    "        diet_name (str): The diet category (e.g., \"frozen\", \"canned\").\n",
    "        nutrients_df (pd.DataFrame): The dataset containing nutrient information for each ingred_code.\n",
    "\n",
    "    Returns:\n",
    "        pd.DataFrame: Nutritional content for the diet, formatted with:\n",
    "                      - Rows as nutrients (e.g., Protein, Zinc, Water).\n",
    "                      - Columns as food items in the diet.\n",
    "    \"\"\"\n",
    "    # Read the specific diet dataset\n",
    "    diet_df = read_sheet(file_paths[diet_name])  \n",
    "\n",
    "    # Ensure `ingred_code` exists in both datasets\n",
    "    if \"ingred_code\" not in diet_df.columns:\n",
    "        raise ValueError(f\"Column 'ingred_code' not found in {diet_name} dataset.\")\n",
    "    \n",
    "    if \"ingred_code\" not in nutrients_df.columns:\n",
    "        raise ValueError(\"Column 'ingred_code' not found in nutrients dataset.\")\n",
    "\n",
    "    # Merge diet data with nutrient information using `ingred_code`\n",
    "    merged_df = diet_df.merge(nutrients_df, on=\"ingred_code\", how=\"left\")\n",
    "\n",
    "    # Add a column for the diet name\n",
    "    merged_df[\"Diet\"] = diet_name  \n",
    "\n",
    "    # Pivot the table: Rows = Nutrients, Columns = Food Items\n",
    "    nutrient_table = merged_df.set_index([\"Diet\", \"parent_desc\"]).drop(columns=[\"ingred_code\"]).T\n",
    "\n",
    "    return nutrient_table"
   ]
  },
  {
   "cell_type": "code",
   "execution_count": null,
   "metadata": {},
   "outputs": [],
   "source": [
    "##example for frozen\n",
    "nutritional_info_df = get_diet_nutritional_info(\"frozen\", nutrients_df)\n",
    "\n",
    "# Show first 10 rows to verify the diet name\n",
    "nutritional_info_df.head(10)"
   ]
  },
  {
   "cell_type": "markdown",
   "metadata": {},
   "source": [
    "Liquid Solution\n",
    "=============="
   ]
  },
  {
   "cell_type": "code",
   "execution_count": null,
   "metadata": {},
   "outputs": [],
   "source": [
    "liquid_recipes = pd.read_csv(\"Wilbur Atwater min_cost_data - liquid_recipes.csv\")\n",
    "nutrition = pd.read_csv(\"Wilbur Atwater min_cost_data - nutrients.csv\")\n",
    "# from fndds diet problem: normalize weights to percentage terms. \n",
    "liquid_recipes['ingred_wt'] = liquid_recipes['ingred_wt']/liquid_recipes.groupby(['parent_foodcode'])['ingred_wt'].transform(\"sum\")\n",
    "\n",
    "# we're going to extend the recipes data frame to include the nutrient profiles of its ingredients (in 100g)\n",
    "liquid_df = liquid_recipes.merge(nutrition, how=\"left\", on=\"ingred_code\")\n",
    "\n",
    "# multiply all nutrients per 100g of an ingredient by the weight of that ingredient in a recipe.\n",
    "numeric_cols = list(liquid_df.select_dtypes(include=[\"number\"]).columns)\n",
    "numeric_cols.remove(\"ingred_wt\")\n",
    "liquid_df[numeric_cols] = liquid_df[numeric_cols].mul(liquid_df[\"ingred_wt\"], axis=0)\n",
    "\n",
    "# sum nutrients of food codes (over the multiple ingredients)\n",
    "# python tip: one can merge dictionaries dict1 dict2 using **, that is: dict_merge = {**dict1, **dict2}. \n",
    "#The ** effectively \"unpacks\" the key value pairs in each dictionary\n",
    "liquid_df = liquid_df.groupby('parent_foodcode').agg({**{col: \"sum\" for col in numeric_cols},\n",
    "                                        \"parent_desc\": \"first\"})\n",
    "\n",
    "liquid_df.index.name = \"recipe_id\"\n",
    "\n",
    "food_names = liquid_df[\"parent_desc\"]\n",
    "print(food_names.head())\n",
    "liquid_df.head()"
   ]
  },
  {
   "cell_type": "code",
   "execution_count": null,
   "metadata": {},
   "outputs": [],
   "source": [
    "prices_liquid = prices_df[[\"parent_foodcode\", \"year\", \"price\"]]\n",
    "\n",
    "\n",
    "\n",
    "prices_liquid = prices_liquid.set_index([\"year\", \"parent_foodcode\"])\n",
    "print(prices_liquid.index.levels[0])\n",
    "\n",
    "# we'll focus on the latest price data\n",
    "prices_liquid = prices_liquid.xs(\"2017/2018\", level=\"year\")\n",
    "\n",
    "# drop rows of prices where the price is \"NA\"\n",
    "prices_liquid = prices_liquid.dropna(subset=\"price\")\n",
    "common_recipes = liquid_df.index.intersection(prices_liquid.index)\n",
    "\n",
    "# python tip: given a list of indices, \"loc\" both subsets and sorts. \n",
    "liquid_df = liquid_df.loc[common_recipes]\n",
    "prices_liquid = prices_liquid.loc[common_recipes]\n",
    "\n",
    "# lets remap the price dataframe index to be the actual food names.\n",
    "prices_liquid.index = prices_liquid.index.map(food_names)\n",
    "A_liquid_all = liquid_df.T\n",
    "\n",
    "\n",
    "print(f\"We have prices for {prices_liquid.shape[0]} unique recipes (FNDDS food codes)\")"
   ]
  },
  {
   "cell_type": "code",
   "execution_count": null,
   "metadata": {},
   "outputs": [],
   "source": [
    "# pick a demographic (column from rda dataframe)\n",
    "'''\n",
    "select from \n",
    "['Child_1_3', 'Female_4_8', 'Male_4_8', 'Female_9_13', 'Male_9_13', \n",
    "'Female_14_18', 'Male_14_18','Female_19_30', 'Male_19_30', \n",
    "'Female_31_50', 'Male_31_50', 'Female_51U', 'Male_51U']\n",
    "'''\n",
    "group = \"Female_19_30\"\n",
    "\n",
    "# create lower bounds and upper bounds.\n",
    "bmin = rda.loc[rda['Constraint Type'].isin(['RDA', 'AI']), group]\n",
    "bmax = rda.loc[rda['Constraint Type'].isin(['UL']), group]\n",
    "\n",
    "# reindex ensures we only keep nutrients in bmin/bmax\n",
    "Amin = A_liquid_all.reindex(bmin.index).dropna(how='all')\n",
    "Amax = A_liquid_all.reindex(bmax.index).dropna(how='all')\n",
    "\n",
    "b = pd.concat([bmin, -bmax])\n",
    "A = pd.concat([Amin, -Amax])\n",
    "\n",
    "#python tip: by typing \"=\" after the variable name inside the curly braces, it formats the output so we don't have to write f\"variable = {variable}\"\n",
    "print(f\"{bmin.shape=}\")\n",
    "print(f\"{Amin.shape=}\")\n",
    "print(f\"{bmax.shape=}\")\n",
    "print(f\"{Amax.shape=}\")\n",
    "print(f\"{b.shape=}\")\n",
    "print(f\"{A.shape=}\")\n",
    "print(f\"{prices_liquid.shape=}\")"
   ]
  },
  {
   "cell_type": "code",
   "execution_count": null,
   "metadata": {},
   "outputs": [],
   "source": [
    "'''\n",
    "select from \n",
    "['Child_1_3', 'Female_4_8', 'Male_4_8', 'Female_9_13', 'Male_9_13', \n",
    "'Female_14_18', 'Male_14_18','Female_19_30', 'Male_19_30', \n",
    "'Female_31_50', 'Male_31_50', 'Female_51U', 'Male_51U']\n",
    "'''\n",
    "\n",
    "group = 'Female_19_30'\n",
    "tol = 1e-6\n",
    "\n",
    "result = lp(prices_liquid, -A, -b, method=\"highs\")\n",
    "result\n",
    "print(f\"Cost of diet for {group} is ${result.fun:.2f} per day.\")\n",
    "diet = pd.Series(result.x,index=prices_liquid.index)\n",
    "\n",
    "print(\"\\nYou'll be eating (in 100s of grams or milliliters):\")\n",
    "print(round(diet[diet >= tol], 2))"
   ]
  },
  {
   "cell_type": "code",
   "execution_count": null,
   "metadata": {},
   "outputs": [],
   "source": [
    "tab = pd.DataFrame({\"Outcome\":A.to_numpy()@diet.to_numpy(),\"Recommendation\":np.abs(b)})\n",
    "print(\"\\nWith the following nutritional outcomes of interest:\")\n",
    "print(tab)"
   ]
  },
  {
   "cell_type": "code",
   "execution_count": null,
   "metadata": {},
   "outputs": [],
   "source": [
    "print(\"\\nConstraining nutrients are:\")\n",
    "excess = tab.diff(axis=1).iloc[:,1]\n",
    "print(excess.loc[np.abs(excess) < tol].index.tolist())"
   ]
  },
  {
   "cell_type": "markdown",
   "metadata": {},
   "source": [
    "Fresh Diet Solution\n",
    "==================="
   ]
  },
  {
   "cell_type": "code",
   "execution_count": null,
   "metadata": {},
   "outputs": [],
   "source": [
    "fresh_recipes = pd.read_csv(\"Wilbur Atwater min_cost_data - fresh_recipes.csv\")\n",
    "nutrition = pd.read_csv(\"Wilbur Atwater min_cost_data - nutrients.csv\")\n",
    "# from fndds diet problem: normalize weights to percentage terms. \n",
    "fresh_recipes['ingred_wt'] = fresh_recipes['ingred_wt']/fresh_recipes.groupby(['parent_foodcode'])['ingred_wt'].transform(\"sum\")\n",
    "\n",
    "# we're going to extend the recipes data frame to include the nutrient profiles of its ingredients (in 100g)\n",
    "fresh_df = fresh_recipes.merge(nutrition, how=\"left\", on=\"ingred_code\")\n",
    "\n",
    "# multiply all nutrients per 100g of an ingredient by the weight of that ingredient in a recipe.\n",
    "numeric_cols = list(fresh_df.select_dtypes(include=[\"number\"]).columns)\n",
    "numeric_cols.remove(\"ingred_wt\")\n",
    "fresh_df[numeric_cols] = fresh_df[numeric_cols].mul(fresh_df[\"ingred_wt\"], axis=0)\n",
    "\n",
    "# sum nutrients of food codes (over the multiple ingredients)\n",
    "# python tip: one can merge dictionaries dict1 dict2 using **, that is: dict_merge = {**dict1, **dict2}. \n",
    "#The ** effectively \"unpacks\" the key value pairs in each dictionary\n",
    "fresh_df = fresh_df.groupby('parent_foodcode').agg({**{col: \"sum\" for col in numeric_cols},\n",
    "                                        \"parent_desc\": \"first\"})\n",
    "\n",
    "fresh_df.index.name = \"recipe_id\"\n",
    "\n",
    "food_names_2 = fresh_df[\"parent_desc\"]\n",
    "print(food_names_2.head())\n",
    "fresh_df.head()"
   ]
  },
  {
   "cell_type": "code",
   "execution_count": null,
   "metadata": {},
   "outputs": [],
   "source": [
    "prices_fresh = prices_df[[\"parent_foodcode\", \"year\", \"price\"]]\n",
    "\n",
    "prices_fresh = prices_fresh.set_index([\"year\", \"parent_foodcode\"])\n",
    "\n",
    "# we'll focus on the latest price data\n",
    "prices_fresh = prices_fresh.xs(\"2017/2018\", level=\"year\")\n",
    "\n",
    "# drop rows of prices where the price is \"NA\"\n",
    "prices_fresh = prices_fresh.dropna(subset=\"price\")\n",
    "common_recipes = fresh_df.index.intersection(prices_fresh.index)\n",
    "\n",
    "# python tip: given a list of indices, \"loc\" both subsets and sorts. \n",
    "\n",
    "fresh_df = fresh_df.loc[common_recipes]\n",
    "prices_fresh = prices_fresh.loc[common_recipes]\n",
    "\n",
    "# lets remap the price dataframe index to be the actual food names.\n",
    "prices_fresh.index = prices_fresh.index.map(food_names_2)\n",
    "A_fresh_all = fresh_df.T\n",
    "\n",
    "print(f\"We have prices for {prices_fresh.shape[0]} unique recipes (FNDDS food codes)\")"
   ]
  },
  {
   "cell_type": "code",
   "execution_count": null,
   "metadata": {},
   "outputs": [],
   "source": [
    "# pick a demographic (column from rda dataframe)\n",
    "'''\n",
    "select from \n",
    "['Child_1_3', 'Female_4_8', 'Male_4_8', 'Female_9_13', 'Male_9_13', \n",
    "'Female_14_18', 'Male_14_18','Female_19_30', 'Male_19_30', \n",
    "'Female_31_50', 'Male_31_50', 'Female_51U', 'Male_51U']\n",
    "'''\n",
    "group = \"Female_19_30\"\n",
    "\n",
    "# reindex ensures we only keep nutrients in bmin/bmax\n",
    "Amin = A_fresh_all.reindex(bmin.index).dropna(how='all')\n",
    "Amax = A_fresh_all.reindex(bmax.index).dropna(how='all')\n",
    "\n",
    "b = pd.concat([bmin, -bmax])\n",
    "A_fresh = pd.concat([Amin, -Amax])\n",
    "\n",
    "#python tip: by typing \"=\" after the variable name inside the curly braces, it formats the output so we don't have to write f\"variable = {variable}\"\n",
    "print(f\"{bmin.shape=}\")\n",
    "print(f\"{Amin.shape=}\")\n",
    "print(f\"{bmax.shape=}\")\n",
    "print(f\"{Amax.shape=}\")\n",
    "print(f\"{b.shape=}\")\n",
    "print(f\"{A.shape=}\")\n",
    "print(f\"{prices_fresh.shape=}\")"
   ]
  },
  {
   "cell_type": "code",
   "execution_count": null,
   "metadata": {},
   "outputs": [],
   "source": [
    "group = 'Female_19_30'\n",
    "tol = 1e-6\n",
    "\n",
    "result = lp(prices_fresh, -A_fresh, -b, method=\"highs\")\n",
    "result"
   ]
  },
  {
   "cell_type": "markdown",
   "metadata": {},
   "source": [
    "Frozen Diet\n",
    "==========="
   ]
  },
  {
   "cell_type": "code",
   "execution_count": null,
   "metadata": {},
   "outputs": [],
   "source": [
    "frozen_recipes = pd.read_csv(\"Wilbur Atwater min_cost_data - frozen_recipes.csv\")\n",
    "nutrition = pd.read_csv(\"Wilbur Atwater min_cost_data - nutrients.csv\")\n",
    "# from fndds diet problem: normalize weights to percentage terms. \n",
    "frozen_recipes['ingred_wt'] = frozen_recipes['ingred_wt']/frozen_recipes.groupby(['parent_foodcode'])['ingred_wt'].transform(\"sum\")\n",
    "\n",
    "# we're going to extend the recipes data frame to include the nutrient profiles of its ingredients (in 100g)\n",
    "frozen_df = frozen_recipes.merge(nutrition, how=\"left\", on=\"ingred_code\")\n",
    "\n",
    "# multiply all nutrients per 100g of an ingredient by the weight of that ingredient in a recipe.\n",
    "numeric_cols = list(frozen_df.select_dtypes(include=[\"number\"]).columns)\n",
    "numeric_cols.remove(\"ingred_wt\")\n",
    "frozen_df[numeric_cols] = frozen_df[numeric_cols].mul(frozen_df[\"ingred_wt\"], axis=0)\n",
    "\n",
    "# sum nutrients of food codes (over the multiple ingredients)\n",
    "# python tip: one can merge dictionaries dict1 dict2 using **, that is: dict_merge = {**dict1, **dict2}. \n",
    "#The ** effectively \"unpacks\" the key value pairs in each dictionary\n",
    "frozen_df = frozen_df.groupby('parent_foodcode').agg({**{col: \"sum\" for col in numeric_cols},\n",
    "                                        \"parent_desc\": \"first\"})\n",
    "\n",
    "frozen_df.index.name = \"recipe_id\"\n",
    "\n",
    "food_names_2 = frozen_df[\"parent_desc\"]\n",
    "print(food_names_2.head())\n",
    "frozen_df.head()"
   ]
  },
  {
   "cell_type": "code",
   "execution_count": null,
   "metadata": {},
   "outputs": [],
   "source": [
    "prices_frozen = prices_df[[\"parent_foodcode\", \"year\", \"price\"]]\n",
    "\n",
    "prices_frozen = prices_frozen.set_index([\"year\", \"parent_foodcode\"])\n",
    "\n",
    "# we'll focus on the latest price data\n",
    "prices_frozen = prices_frozen.xs(\"2017/2018\", level=\"year\")\n",
    "\n",
    "# drop rows of prices where the price is \"NA\"\n",
    "prices_frozen = prices_frozen.dropna(subset=\"price\")\n",
    "common_recipes = frozen_df.index.intersection(prices_frozen.index)\n",
    "\n",
    "# python tip: given a list of indices, \"loc\" both subsets and sorts. \n",
    "\n",
    "frozen_df = frozen_df.loc[common_recipes]\n",
    "prices_frozen = prices_frozen.loc[common_recipes]\n",
    "\n",
    "# lets remap the price dataframe index to be the actual food names.\n",
    "prices_frozen.index = prices_frozen.index.map(food_names_2)\n",
    "A_frozen_all = frozen_df.T\n",
    "\n",
    "print(f\"We have prices for {prices_frozen.shape[0]} unique recipes (FNDDS food codes)\")"
   ]
  },
  {
   "cell_type": "code",
   "execution_count": null,
   "metadata": {},
   "outputs": [],
   "source": [
    "# pick a demographic (column from rda dataframe)\n",
    "'''\n",
    "select from \n",
    "['Child_1_3', 'Female_4_8', 'Male_4_8', 'Female_9_13', 'Male_9_13', \n",
    "'Female_14_18', 'Male_14_18','Female_19_30', 'Male_19_30', \n",
    "'Female_31_50', 'Male_31_50', 'Female_51U', 'Male_51U']\n",
    "'''\n",
    "group = \"Female_19_30\"\n",
    "\n",
    "# reindex ensures we only keep nutrients in bmin/bmax\n",
    "Amin = A_frozen_all.reindex(bmin.index).dropna(how='all')\n",
    "Amax = A_frozen_all.reindex(bmax.index).dropna(how='all')\n",
    "\n",
    "b = pd.concat([bmin, -bmax])\n",
    "A_frozen = pd.concat([Amin, -Amax])\n",
    "\n",
    "#python tip: by typing \"=\" after the variable name inside the curly braces, it formats the output so we don't have to write f\"variable = {variable}\"\n",
    "print(f\"{bmin.shape=}\")\n",
    "print(f\"{Amin.shape=}\")\n",
    "print(f\"{bmax.shape=}\")\n",
    "print(f\"{Amax.shape=}\")\n",
    "print(f\"{b.shape=}\")\n",
    "print(f\"{A.shape=}\")\n",
    "print(f\"{prices_frozen.shape=}\")"
   ]
  },
  {
   "cell_type": "code",
   "execution_count": null,
   "metadata": {},
   "outputs": [],
   "source": [
    "group = 'Female_19_30'\n",
    "tol = 1e-6\n",
    "\n",
    "result = lp(prices_frozen, -A_frozen, -b, method=\"highs\")\n",
    "result"
   ]
  },
  {
   "cell_type": "markdown",
   "metadata": {},
   "source": [
    "Carnivorous Solution\n",
    "=================="
   ]
  },
  {
   "cell_type": "code",
   "execution_count": null,
   "metadata": {},
   "outputs": [],
   "source": [
    "carn_recipes = pd.read_csv(\"Wilbur Atwater min_cost_data - carnivore_recipes.csv\")\n",
    "nutrition = pd.read_csv(\"Wilbur Atwater min_cost_data - nutrients.csv\")\n",
    "# from fndds diet problem: normalize weights to percentage terms. \n",
    "carn_recipes['ingred_wt'] = carn_recipes['ingred_wt']/carn_recipes.groupby(['parent_foodcode'])['ingred_wt'].transform(\"sum\")\n",
    "\n",
    "# we're going to extend the recipes data frame to include the nutrient profiles of its ingredients (in 100g)\n",
    "carn_df = carn_recipes.merge(nutrition, how=\"left\", on=\"ingred_code\")\n",
    "\n",
    "# multiply all nutrients per 100g of an ingredient by the weight of that ingredient in a recipe.\n",
    "numeric_cols = list(carn_df.select_dtypes(include=[\"number\"]).columns)\n",
    "numeric_cols.remove(\"ingred_wt\")\n",
    "carn_df[numeric_cols] = carn_df[numeric_cols].mul(carn_df[\"ingred_wt\"], axis=0)\n",
    "\n",
    "# sum nutrients of food codes (over the multiple ingredients)\n",
    "# python tip: one can merge dictionaries dict1 dict2 using **, that is: dict_merge = {**dict1, **dict2}. \n",
    "#The ** effectively \"unpacks\" the key value pairs in each dictionary\n",
    "carn_df = carn_df.groupby('parent_foodcode').agg({**{col: \"sum\" for col in numeric_cols},\n",
    "                                        \"parent_desc\": \"first\"})\n",
    "\n",
    "carn_df.index.name = \"recipe_id\"\n",
    "\n",
    "food_names_2 = carn_df[\"parent_desc\"]\n",
    "print(food_names_2.head())\n",
    "carn_df.head()"
   ]
  },
  {
   "cell_type": "code",
   "execution_count": null,
   "metadata": {},
   "outputs": [],
   "source": [
    "prices_carn = prices_df[[\"parent_foodcode\", \"year\", \"price\"]]\n",
    "\n",
    "prices_carn = prices_carn.set_index([\"year\", \"parent_foodcode\"])\n",
    "\n",
    "# we'll focus on the latest price data\n",
    "prices_carn = prices_carn.xs(\"2017/2018\", level=\"year\")\n",
    "\n",
    "# drop rows of prices where the price is \"NA\"\n",
    "prices_carn = prices_carn.dropna(subset=\"price\")\n",
    "common_recipes = carn_df.index.intersection(prices_carn.index)\n",
    "\n",
    "# python tip: given a list of indices, \"loc\" both subsets and sorts. \n",
    "\n",
    "carn_df = carn_df.loc[common_recipes]\n",
    "prices_carn = prices_carn.loc[common_recipes]\n",
    "\n",
    "# lets remap the price dataframe index to be the actual food names.\n",
    "prices_carn.index = prices_carn.index.map(food_names_2)\n",
    "A_carn_all = carn_df.T\n",
    "\n",
    "print(f\"We have prices for {prices_carn.shape[0]} unique recipes (FNDDS food codes)\")"
   ]
  }
 ],
 "metadata": {
  "kernelspec": {
   "display_name": "Python 3 (ipykernel)",
   "language": "python",
   "name": "python3"
  },
  "language_info": {
   "codemirror_mode": {
    "name": "ipython",
    "version": 3
   },
   "file_extension": ".py",
   "mimetype": "text/x-python",
   "name": "python",
   "nbconvert_exporter": "python",
   "pygments_lexer": "ipython3",
   "version": "3.11.11"
  }
 },
 "nbformat": 4,
 "nbformat_minor": 4
}
